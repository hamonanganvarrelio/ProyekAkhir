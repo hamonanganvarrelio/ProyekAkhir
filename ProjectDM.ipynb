{
  "nbformat": 4,
  "nbformat_minor": 0,
  "metadata": {
    "colab": {
      "name": "ProjectDM.ipynb",
      "provenance": [],
      "collapsed_sections": []
    },
    "kernelspec": {
      "display_name": "Python 3",
      "name": "python3"
    },
    "language_info": {
      "name": "python"
    }
  },
  "cells": [
    {
      "cell_type": "code",
      "metadata": {
        "id": "VqkDkUt5FqIO"
      },
      "source": [
        "import numpy as np\n",
        "import pandas as pd\n",
        "from sklearn import tree"
      ],
      "execution_count": null,
      "outputs": []
    },
    {
      "cell_type": "code",
      "metadata": {
        "id": "UN1yozrWHJ3_"
      },
      "source": [
        "Dataset = pd.read_csv('customer-churn-data.csv',delimiter=',',header=0)"
      ],
      "execution_count": null,
      "outputs": []
    },
    {
      "cell_type": "code",
      "metadata": {
        "colab": {
          "base_uri": "https://localhost:8080/",
          "height": 204
        },
        "id": "TyJVEtyMH1gn",
        "outputId": "0d34e3bf-b82c-45ee-9789-ab5a3e7a1086"
      },
      "source": [
        "Dataset.head()"
      ],
      "execution_count": null,
      "outputs": [
        {
          "output_type": "execute_result",
          "data": {
            "text/html": [
              "<div>\n",
              "<style scoped>\n",
              "    .dataframe tbody tr th:only-of-type {\n",
              "        vertical-align: middle;\n",
              "    }\n",
              "\n",
              "    .dataframe tbody tr th {\n",
              "        vertical-align: top;\n",
              "    }\n",
              "\n",
              "    .dataframe thead th {\n",
              "        text-align: right;\n",
              "    }\n",
              "</style>\n",
              "<table border=\"1\" class=\"dataframe\">\n",
              "  <thead>\n",
              "    <tr style=\"text-align: right;\">\n",
              "      <th></th>\n",
              "      <th>Gender</th>\n",
              "      <th>Age</th>\n",
              "      <th>PaymentMethod</th>\n",
              "      <th>Churn</th>\n",
              "      <th>LastTransaction</th>\n",
              "    </tr>\n",
              "  </thead>\n",
              "  <tbody>\n",
              "    <tr>\n",
              "      <th>0</th>\n",
              "      <td>male</td>\n",
              "      <td>64</td>\n",
              "      <td>credit card</td>\n",
              "      <td>loyal</td>\n",
              "      <td>98</td>\n",
              "    </tr>\n",
              "    <tr>\n",
              "      <th>1</th>\n",
              "      <td>male</td>\n",
              "      <td>35</td>\n",
              "      <td>cheque</td>\n",
              "      <td>churn</td>\n",
              "      <td>118</td>\n",
              "    </tr>\n",
              "    <tr>\n",
              "      <th>2</th>\n",
              "      <td>female</td>\n",
              "      <td>25</td>\n",
              "      <td>credit card</td>\n",
              "      <td>loyal</td>\n",
              "      <td>107</td>\n",
              "    </tr>\n",
              "    <tr>\n",
              "      <th>3</th>\n",
              "      <td>female</td>\n",
              "      <td>39</td>\n",
              "      <td>credit card</td>\n",
              "      <td>NaN</td>\n",
              "      <td>177</td>\n",
              "    </tr>\n",
              "    <tr>\n",
              "      <th>4</th>\n",
              "      <td>male</td>\n",
              "      <td>39</td>\n",
              "      <td>credit card</td>\n",
              "      <td>loyal</td>\n",
              "      <td>90</td>\n",
              "    </tr>\n",
              "  </tbody>\n",
              "</table>\n",
              "</div>"
            ],
            "text/plain": [
              "   Gender  Age PaymentMethod  Churn  LastTransaction\n",
              "0    male   64   credit card  loyal               98\n",
              "1    male   35        cheque  churn              118\n",
              "2  female   25   credit card  loyal              107\n",
              "3  female   39   credit card    NaN              177\n",
              "4    male   39   credit card  loyal               90"
            ]
          },
          "metadata": {
            "tags": []
          },
          "execution_count": 89
        }
      ]
    },
    {
      "cell_type": "code",
      "metadata": {
        "colab": {
          "base_uri": "https://localhost:8080/"
        },
        "id": "sSo2TLyoJ2Fv",
        "outputId": "be479add-bb29-4893-db24-5c481c47a758"
      },
      "source": [
        "Dataset.isna().sum()"
      ],
      "execution_count": null,
      "outputs": [
        {
          "output_type": "execute_result",
          "data": {
            "text/plain": [
              "Gender              0\n",
              "Age                 0\n",
              "PaymentMethod       0\n",
              "Churn              47\n",
              "LastTransaction     0\n",
              "dtype: int64"
            ]
          },
          "metadata": {
            "tags": []
          },
          "execution_count": 90
        }
      ]
    },
    {
      "cell_type": "code",
      "metadata": {
        "colab": {
          "base_uri": "https://localhost:8080/"
        },
        "id": "74dnyiQvKQB-",
        "outputId": "4812c1c7-675d-440d-feb0-25812d57b116"
      },
      "source": [
        "Dataset_Churn = Dataset\n",
        "modus = Dataset_Churn['Churn'].mode()[0]\n",
        "Dataset_Churn['Churn'] = Dataset_Churn['Churn'].fillna(modus)\n",
        "Dataset_Churn['Churn'].isna().sum()"
      ],
      "execution_count": null,
      "outputs": [
        {
          "output_type": "execute_result",
          "data": {
            "text/plain": [
              "0"
            ]
          },
          "metadata": {
            "tags": []
          },
          "execution_count": 91
        }
      ]
    },
    {
      "cell_type": "code",
      "metadata": {
        "colab": {
          "base_uri": "https://localhost:8080/",
          "height": 204
        },
        "id": "HXaQfVb2MoiW",
        "outputId": "f9f6dff9-2472-4816-ecea-9b4859d68437"
      },
      "source": [
        "Dataset.head()"
      ],
      "execution_count": null,
      "outputs": [
        {
          "output_type": "execute_result",
          "data": {
            "text/html": [
              "<div>\n",
              "<style scoped>\n",
              "    .dataframe tbody tr th:only-of-type {\n",
              "        vertical-align: middle;\n",
              "    }\n",
              "\n",
              "    .dataframe tbody tr th {\n",
              "        vertical-align: top;\n",
              "    }\n",
              "\n",
              "    .dataframe thead th {\n",
              "        text-align: right;\n",
              "    }\n",
              "</style>\n",
              "<table border=\"1\" class=\"dataframe\">\n",
              "  <thead>\n",
              "    <tr style=\"text-align: right;\">\n",
              "      <th></th>\n",
              "      <th>Gender</th>\n",
              "      <th>Age</th>\n",
              "      <th>PaymentMethod</th>\n",
              "      <th>Churn</th>\n",
              "      <th>LastTransaction</th>\n",
              "    </tr>\n",
              "  </thead>\n",
              "  <tbody>\n",
              "    <tr>\n",
              "      <th>0</th>\n",
              "      <td>male</td>\n",
              "      <td>64</td>\n",
              "      <td>credit card</td>\n",
              "      <td>loyal</td>\n",
              "      <td>98</td>\n",
              "    </tr>\n",
              "    <tr>\n",
              "      <th>1</th>\n",
              "      <td>male</td>\n",
              "      <td>35</td>\n",
              "      <td>cheque</td>\n",
              "      <td>churn</td>\n",
              "      <td>118</td>\n",
              "    </tr>\n",
              "    <tr>\n",
              "      <th>2</th>\n",
              "      <td>female</td>\n",
              "      <td>25</td>\n",
              "      <td>credit card</td>\n",
              "      <td>loyal</td>\n",
              "      <td>107</td>\n",
              "    </tr>\n",
              "    <tr>\n",
              "      <th>3</th>\n",
              "      <td>female</td>\n",
              "      <td>39</td>\n",
              "      <td>credit card</td>\n",
              "      <td>loyal</td>\n",
              "      <td>177</td>\n",
              "    </tr>\n",
              "    <tr>\n",
              "      <th>4</th>\n",
              "      <td>male</td>\n",
              "      <td>39</td>\n",
              "      <td>credit card</td>\n",
              "      <td>loyal</td>\n",
              "      <td>90</td>\n",
              "    </tr>\n",
              "  </tbody>\n",
              "</table>\n",
              "</div>"
            ],
            "text/plain": [
              "   Gender  Age PaymentMethod  Churn  LastTransaction\n",
              "0    male   64   credit card  loyal               98\n",
              "1    male   35        cheque  churn              118\n",
              "2  female   25   credit card  loyal              107\n",
              "3  female   39   credit card  loyal              177\n",
              "4    male   39   credit card  loyal               90"
            ]
          },
          "metadata": {
            "tags": []
          },
          "execution_count": 92
        }
      ]
    },
    {
      "cell_type": "code",
      "metadata": {
        "id": "ok6KHqNSH92-"
      },
      "source": [
        "Dataset[\"Churn\"] = pd.factorize(Dataset.Churn)[0]\n",
        "Dataset[\"Gender\"] = pd.factorize(Dataset.Gender)[0]\n",
        "Dataset[\"PaymentMethod\"] = pd.factorize(Dataset.PaymentMethod)[0]"
      ],
      "execution_count": null,
      "outputs": []
    },
    {
      "cell_type": "code",
      "metadata": {
        "colab": {
          "base_uri": "https://localhost:8080/",
          "height": 204
        },
        "id": "SzH_40WTIOsm",
        "outputId": "c0034cf4-6127-49db-ec40-52f864780c0c"
      },
      "source": [
        "Dataset.head()"
      ],
      "execution_count": null,
      "outputs": [
        {
          "output_type": "execute_result",
          "data": {
            "text/html": [
              "<div>\n",
              "<style scoped>\n",
              "    .dataframe tbody tr th:only-of-type {\n",
              "        vertical-align: middle;\n",
              "    }\n",
              "\n",
              "    .dataframe tbody tr th {\n",
              "        vertical-align: top;\n",
              "    }\n",
              "\n",
              "    .dataframe thead th {\n",
              "        text-align: right;\n",
              "    }\n",
              "</style>\n",
              "<table border=\"1\" class=\"dataframe\">\n",
              "  <thead>\n",
              "    <tr style=\"text-align: right;\">\n",
              "      <th></th>\n",
              "      <th>Gender</th>\n",
              "      <th>Age</th>\n",
              "      <th>PaymentMethod</th>\n",
              "      <th>Churn</th>\n",
              "      <th>LastTransaction</th>\n",
              "    </tr>\n",
              "  </thead>\n",
              "  <tbody>\n",
              "    <tr>\n",
              "      <th>0</th>\n",
              "      <td>0</td>\n",
              "      <td>64</td>\n",
              "      <td>0</td>\n",
              "      <td>0</td>\n",
              "      <td>98</td>\n",
              "    </tr>\n",
              "    <tr>\n",
              "      <th>1</th>\n",
              "      <td>0</td>\n",
              "      <td>35</td>\n",
              "      <td>1</td>\n",
              "      <td>1</td>\n",
              "      <td>118</td>\n",
              "    </tr>\n",
              "    <tr>\n",
              "      <th>2</th>\n",
              "      <td>1</td>\n",
              "      <td>25</td>\n",
              "      <td>0</td>\n",
              "      <td>0</td>\n",
              "      <td>107</td>\n",
              "    </tr>\n",
              "    <tr>\n",
              "      <th>3</th>\n",
              "      <td>1</td>\n",
              "      <td>39</td>\n",
              "      <td>0</td>\n",
              "      <td>0</td>\n",
              "      <td>177</td>\n",
              "    </tr>\n",
              "    <tr>\n",
              "      <th>4</th>\n",
              "      <td>0</td>\n",
              "      <td>39</td>\n",
              "      <td>0</td>\n",
              "      <td>0</td>\n",
              "      <td>90</td>\n",
              "    </tr>\n",
              "  </tbody>\n",
              "</table>\n",
              "</div>"
            ],
            "text/plain": [
              "   Gender  Age  PaymentMethod  Churn  LastTransaction\n",
              "0       0   64              0      0               98\n",
              "1       0   35              1      1              118\n",
              "2       1   25              0      0              107\n",
              "3       1   39              0      0              177\n",
              "4       0   39              0      0               90"
            ]
          },
          "metadata": {
            "tags": []
          },
          "execution_count": 95
        }
      ]
    },
    {
      "cell_type": "code",
      "metadata": {
        "colab": {
          "base_uri": "https://localhost:8080/"
        },
        "id": "BdLZfW65IXyW",
        "outputId": "0e39f80d-fd9f-40c6-bf34-81079d4d9591"
      },
      "source": [
        "print(Dataset)"
      ],
      "execution_count": null,
      "outputs": [
        {
          "output_type": "stream",
          "text": [
            "     Gender  Age  PaymentMethod  Churn  LastTransaction\n",
            "0         0   64              0      0               98\n",
            "1         0   35              1      1              118\n",
            "2         1   25              0      0              107\n",
            "3         1   39              0      0              177\n",
            "4         0   39              0      0               90\n",
            "..      ...  ...            ...    ...              ...\n",
            "495       0   46              0      0               92\n",
            "496       1   69              2      0              116\n",
            "497       1   55              1      1              146\n",
            "498       1   27              0      0               37\n",
            "499       0   79              2      1               96\n",
            "\n",
            "[500 rows x 5 columns]\n"
          ],
          "name": "stdout"
        }
      ]
    },
    {
      "cell_type": "code",
      "metadata": {
        "id": "TvAGs_OgIjVW"
      },
      "source": [
        "Dataset = Dataset.to_numpy()"
      ],
      "execution_count": null,
      "outputs": []
    },
    {
      "cell_type": "code",
      "metadata": {
        "colab": {
          "base_uri": "https://localhost:8080/"
        },
        "id": "jFTNwfH_NccJ",
        "outputId": "46de6469-851a-40c6-99fa-dba95e41fa00"
      },
      "source": [
        "print(Dataset)"
      ],
      "execution_count": null,
      "outputs": [
        {
          "output_type": "stream",
          "text": [
            "[[  0  64   0   0  98]\n",
            " [  0  35   1   1 118]\n",
            " [  1  25   0   0 107]\n",
            " ...\n",
            " [  1  55   1   1 146]\n",
            " [  1  27   0   0  37]\n",
            " [  0  79   2   1  96]]\n"
          ],
          "name": "stdout"
        }
      ]
    },
    {
      "cell_type": "code",
      "metadata": {
        "id": "umfhm5aCOF_K"
      },
      "source": [
        "dataTraining = np.concatenate((Dataset[0:200, :], Dataset[250:450, :]),\n",
        "                              axis=0)\n",
        "dataTesting = np.concatenate((Dataset[200:250, :], Dataset[450:500, :]),\n",
        "                             axis=0)"
      ],
      "execution_count": null,
      "outputs": []
    },
    {
      "cell_type": "code",
      "metadata": {
        "colab": {
          "base_uri": "https://localhost:8080/"
        },
        "id": "v9WeN2cTRbWu",
        "outputId": "4c7dd08b-9afe-4c9d-cb3a-51e973f9a56d"
      },
      "source": [
        "print(dataTraining)\n",
        "len(dataTraining)"
      ],
      "execution_count": null,
      "outputs": [
        {
          "output_type": "stream",
          "text": [
            "[[  0  64   0   0  98]\n",
            " [  0  35   1   1 118]\n",
            " [  1  25   0   0 107]\n",
            " ...\n",
            " [  0  61   0   0  55]\n",
            " [  0  49   0   0  67]\n",
            " [  0  54   0   0  21]]\n"
          ],
          "name": "stdout"
        },
        {
          "output_type": "execute_result",
          "data": {
            "text/plain": [
              "400"
            ]
          },
          "metadata": {
            "tags": []
          },
          "execution_count": 100
        }
      ]
    },
    {
      "cell_type": "code",
      "metadata": {
        "colab": {
          "base_uri": "https://localhost:8080/"
        },
        "id": "MrvWT6zJRt3l",
        "outputId": "e3a3e34a-036c-43b4-a060-51e406fc2a2c"
      },
      "source": [
        "print(dataTesting)\n",
        "len(dataTesting)"
      ],
      "execution_count": null,
      "outputs": [
        {
          "output_type": "stream",
          "text": [
            "[[  0  75   0   0 172]\n",
            " [  0  40   0   0  74]\n",
            " [  0  30   0   0  77]\n",
            " [  0  42   2   0 149]\n",
            " [  1  43   2   0  72]\n",
            " [  0  61   2   1 140]\n",
            " [  0  56   0   0  46]\n",
            " [  1  51   0   1 179]\n",
            " [  0  37   0   0 109]\n",
            " [  0  17   1   0 138]\n",
            " [  1  30   0   0 111]\n",
            " [  1  35   2   1 120]\n",
            " [  0  25   2   1 152]\n",
            " [  0  26   0   0 107]\n",
            " [  1  33   0   1 191]\n",
            " [  1  43   0   1 184]\n",
            " [  0  21   2   0 103]\n",
            " [  0  29   0   0  75]\n",
            " [  0  34   2   0 118]\n",
            " [  1  33   0   1 162]\n",
            " [  0  17   0   0 103]\n",
            " [  1  79   0   1 141]\n",
            " [  0  79   0   0 160]\n",
            " [  0  52   0   0 115]\n",
            " [  1  62   1   1 136]\n",
            " [  1  30   0   0 137]\n",
            " [  1  35   0   1 141]\n",
            " [  0  31   0   0  55]\n",
            " [  1  47   2   1 163]\n",
            " [  0  35   0   0 107]\n",
            " [  0  61   0   0  94]\n",
            " [  0  62   0   0  82]\n",
            " [  1  55   0   0 155]\n",
            " [  0  48   1   0 143]\n",
            " [  0  89   2   0 132]\n",
            " [  1  33   0   1 172]\n",
            " [  1  50   0   0 194]\n",
            " [  0  63   1   1 196]\n",
            " [  1  64   0   1  61]\n",
            " [  0  74   0   0 190]\n",
            " [  0  33   0   0 111]\n",
            " [  0  55   1   0 128]\n",
            " [  0  81   0   0 149]\n",
            " [  1  81   0   0 143]\n",
            " [  1  50   2   1 129]\n",
            " [  0  53   2   0 126]\n",
            " [  0  56   1   0 179]\n",
            " [  1  50   0   1 151]\n",
            " [  1  38   0   1 140]\n",
            " [  0  71   0   0 131]\n",
            " [  0  37   0   0  91]\n",
            " [  0  43   2   0 140]\n",
            " [  0  52   1   1 166]\n",
            " [  1  51   0   1 177]\n",
            " [  1  62   0   1  82]\n",
            " [  0  51   2   0 127]\n",
            " [  1  66   0   1 169]\n",
            " [  1  54   0   1 178]\n",
            " [  0  70   2   1 129]\n",
            " [  1  44   0   1 162]\n",
            " [  1  70   0   0 162]\n",
            " [  0  48   0   0  87]\n",
            " [  1  59   0   1  49]\n",
            " [  0  54   0   0  59]\n",
            " [  1  18   0   1   3]\n",
            " [  1  19   0   0  70]\n",
            " [  1  19   0   0  68]\n",
            " [  0  36   0   0  69]\n",
            " [  0  27   1   0  93]\n",
            " [  1  18   0   0  95]\n",
            " [  0  58   2   0  43]\n",
            " [  1  18   0   0  99]\n",
            " [  1  36   0   1  13]\n",
            " [  0  47   0   0  69]\n",
            " [  0  52   0   0  77]\n",
            " [  0  56   2   0 150]\n",
            " [  0  35   0   0  44]\n",
            " [  1  29   0   0  83]\n",
            " [  0  32   0   0  94]\n",
            " [  0  72   2   0 127]\n",
            " [  0  71   0   0 122]\n",
            " [  0  49   0   0  77]\n",
            " [  0  77   0   0 180]\n",
            " [  0  21   2   0 119]\n",
            " [  1  29   2   1 109]\n",
            " [  1  47   0   0 210]\n",
            " [  1  19   0   0  65]\n",
            " [  1  63   1   1 192]\n",
            " [  0  24   0   0 100]\n",
            " [  1  66   0   1 125]\n",
            " [  0  23   0   0 103]\n",
            " [  1  45   0   1  87]\n",
            " [  0  30   0   0 110]\n",
            " [  1  72   2   1 156]\n",
            " [  0  79   2   1  96]\n",
            " [  0  46   0   0  92]\n",
            " [  1  69   2   0 116]\n",
            " [  1  55   1   1 146]\n",
            " [  1  27   0   0  37]\n",
            " [  0  79   2   1  96]]\n"
          ],
          "name": "stdout"
        },
        {
          "output_type": "execute_result",
          "data": {
            "text/plain": [
              "100"
            ]
          },
          "metadata": {
            "tags": []
          },
          "execution_count": 101
        }
      ]
    },
    {
      "cell_type": "code",
      "metadata": {
        "id": "0KP8i16USWZf"
      },
      "source": [
        "inputTraining = dataTraining[:,0:3]\n",
        "inputTesting = dataTesting[:,0:3]\n",
        "labelTraining = dataTraining[:,3]\n",
        "labelTesting = dataTesting[:,3]"
      ],
      "execution_count": 109,
      "outputs": []
    },
    {
      "cell_type": "code",
      "metadata": {
        "id": "7sOKlL8nR6nW"
      },
      "source": [
        "model = tree.DecisionTreeClassifier()"
      ],
      "execution_count": 110,
      "outputs": []
    },
    {
      "cell_type": "code",
      "metadata": {
        "id": "3b8rm8C9SFY9"
      },
      "source": [
        "model = model.fit(inputTraining, labelTraining)"
      ],
      "execution_count": 111,
      "outputs": []
    },
    {
      "cell_type": "code",
      "metadata": {
        "colab": {
          "base_uri": "https://localhost:8080/"
        },
        "id": "v0c_QLShUQEQ",
        "outputId": "d8e08a15-feaf-49a6-d062-18f2c4946c31"
      },
      "source": [
        "hasilPrediksi = model.predict(inputTesting)\n",
        "print(\"Label Sebenarnya : \", labelTesting)\n",
        "print(\"Hasil Prediksi :\", hasilPrediksi)"
      ],
      "execution_count": 112,
      "outputs": [
        {
          "output_type": "stream",
          "text": [
            "Label Sebenarnya :  [0 0 0 0 0 1 0 1 0 0 0 1 1 0 1 1 0 0 0 1 0 1 0 0 1 0 1 0 1 0 0 0 0 0 0 1 0\n",
            " 1 1 0 0 0 0 0 1 0 0 1 1 0 0 0 1 1 1 0 1 1 1 1 0 0 1 0 1 0 0 0 0 0 0 0 1 0\n",
            " 0 0 0 0 0 0 0 0 0 0 1 0 0 1 0 1 0 1 0 1 1 0 0 1 0 1]\n",
            "Hasil Prediksi : [0 0 0 0 1 0 0 1 0 0 0 1 0 0 0 0 1 0 0 0 0 1 0 0 1 0 0 0 0 0 0 0 0 0 1 0 1\n",
            " 0 1 0 0 0 1 0 0 1 1 1 1 0 0 0 0 1 1 0 1 1 1 1 1 0 0 0 0 0 0 0 0 0 0 0 0 0\n",
            " 0 1 0 0 0 0 0 0 0 1 1 1 0 0 0 1 0 0 0 1 0 0 1 0 0 0]\n"
          ],
          "name": "stdout"
        }
      ]
    },
    {
      "cell_type": "code",
      "metadata": {
        "colab": {
          "base_uri": "https://localhost:8080/"
        },
        "id": "wf68d2ntUWtp",
        "outputId": "9e2f50bd-db42-4db4-b494-b570b5196253"
      },
      "source": [
        "prediksiBenar = (hasilPrediksi == labelTesting).sum()\n",
        "prediksiSalah = (hasilPrediksi != labelTesting).sum()\n",
        "print(\"Prediksi Benar :\", prediksiBenar,\"data\")\n",
        "print(\"Prediksi Salah :\", prediksiSalah,\"data\")\n",
        "print(\"Akurasi :\", prediksiBenar/(prediksiBenar+prediksiSalah)*100, \"%\")"
      ],
      "execution_count": 113,
      "outputs": [
        {
          "output_type": "stream",
          "text": [
            "Prediksi Benar : 69 data\n",
            "Prediksi Salah : 31 data\n",
            "Akurasi : 69.0 %\n"
          ],
          "name": "stdout"
        }
      ]
    }
  ]
}